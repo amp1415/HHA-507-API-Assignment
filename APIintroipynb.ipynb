{
  "nbformat": 4,
  "nbformat_minor": 0,
  "metadata": {
    "colab": {
      "name": "APIintroipynb",
      "provenance": [],
      "authorship_tag": "ABX9TyPMn8rbAMdZaCQsY7K00Z9J",
      "include_colab_link": true
    },
    "kernelspec": {
      "name": "python3",
      "display_name": "Python 3"
    },
    "language_info": {
      "name": "python"
    }
  },
  "cells": [
    {
      "cell_type": "markdown",
      "metadata": {
        "id": "view-in-github",
        "colab_type": "text"
      },
      "source": [
        "<a href=\"https://colab.research.google.com/github/amp1415/HHA-507-API-Assignment/blob/main/APIintroipynb.ipynb\" target=\"_parent\"><img src=\"https://colab.research.google.com/assets/colab-badge.svg\" alt=\"Open In Colab\"/></a>"
      ]
    },
    {
      "cell_type": "markdown",
      "metadata": {
        "id": "b5zKkiJGCLdw"
      },
      "source": [
        "###Installling needed packages"
      ]
    },
    {
      "cell_type": "code",
      "metadata": {
        "id": "DCr4tWjo_GlF"
      },
      "source": [
        "import requests\n",
        "import pandas as pd\n",
        "import json"
      ],
      "execution_count": 2,
      "outputs": []
    },
    {
      "cell_type": "markdown",
      "metadata": {
        "id": "F4BJD90aj3G3"
      },
      "source": [
        "###Writing a get request to pull data from an API, makeup health data"
      ]
    },
    {
      "cell_type": "code",
      "metadata": {
        "id": "J_a_8iCNkJRM"
      },
      "source": [
        "response = requests.get('http://makeup-api.herokuapp.com/api/v1/products.json')"
      ],
      "execution_count": 3,
      "outputs": []
    },
    {
      "cell_type": "markdown",
      "metadata": {
        "id": "5Qmt8QejlLzg"
      },
      "source": [
        "Using a status code to make sure the data is correctly accessed"
      ]
    },
    {
      "cell_type": "code",
      "metadata": {
        "colab": {
          "base_uri": "https://localhost:8080/"
        },
        "id": "h2M3inx8lKKi",
        "outputId": "927ddc67-5ec4-46ba-e777-ba3ba6dca8a6"
      },
      "source": [
        "print(response.status_code)"
      ],
      "execution_count": 4,
      "outputs": [
        {
          "output_type": "stream",
          "name": "stdout",
          "text": [
            "200\n"
          ]
        }
      ]
    },
    {
      "cell_type": "markdown",
      "metadata": {
        "id": "lv0An25vlgbZ"
      },
      "source": [
        "Retriving data"
      ]
    },
    {
      "cell_type": "code",
      "metadata": {
        "id": "xnGMMY9WlXoE"
      },
      "source": [
        "response.json()"
      ],
      "execution_count": null,
      "outputs": []
    }
  ]
}