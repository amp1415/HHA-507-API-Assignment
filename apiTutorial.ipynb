{
  "nbformat": 4,
  "nbformat_minor": 0,
  "metadata": {
    "colab": {
      "name": "apiTutorial.ipynb",
      "provenance": [],
      "collapsed_sections": [],
      "include_colab_link": true
    },
    "kernelspec": {
      "name": "python3",
      "display_name": "Python 3"
    },
    "language_info": {
      "name": "python"
    }
  },
  "cells": [
    {
      "cell_type": "markdown",
      "metadata": {
        "id": "view-in-github",
        "colab_type": "text"
      },
      "source": [
        "<a href=\"https://colab.research.google.com/github/amp1415/HHA-507-API-Assignment/blob/main/apiTutorial.ipynb\" target=\"_parent\"><img src=\"https://colab.research.google.com/assets/colab-badge.svg\" alt=\"Open In Colab\"/></a>"
      ]
    },
    {
      "cell_type": "code",
      "metadata": {
        "id": "_-s_pSqDw-CE"
      },
      "source": [
        "import requests"
      ],
      "execution_count": null,
      "outputs": []
    },
    {
      "cell_type": "code",
      "metadata": {
        "id": "GQ8kZsaWxWMm"
      },
      "source": [
        "jsonResponse = requests.get('http://api.open-notify.org/iss-now.json')"
      ],
      "execution_count": null,
      "outputs": []
    },
    {
      "cell_type": "code",
      "metadata": {
        "colab": {
          "base_uri": "https://localhost:8080/"
        },
        "id": "5BK5mm5AywvY",
        "outputId": "f3d5f46c-f3d3-4a81-d100-118024e3c850"
      },
      "source": [
        "jsonResponse.status_code"
      ],
      "execution_count": null,
      "outputs": [
        {
          "output_type": "execute_result",
          "data": {
            "text/plain": [
              "200"
            ]
          },
          "metadata": {},
          "execution_count": 17
        }
      ]
    },
    {
      "cell_type": "code",
      "metadata": {
        "colab": {
          "base_uri": "https://localhost:8080/"
        },
        "id": "TtGi2qMe0tOe",
        "outputId": "5f60265e-8fc7-4807-c178-745850914dac"
      },
      "source": [
        "jsonResponse.json()"
      ],
      "execution_count": null,
      "outputs": [
        {
          "output_type": "execute_result",
          "data": {
            "text/plain": [
              "{'iss_position': {'latitude': '18.2713', 'longitude': '-119.0696'},\n",
              " 'message': 'success',\n",
              " 'timestamp': 1632353134}"
            ]
          },
          "metadata": {},
          "execution_count": 18
        }
      ]
    },
    {
      "cell_type": "code",
      "metadata": {
        "colab": {
          "base_uri": "https://localhost:8080/"
        },
        "id": "EfT9oEV91LUR",
        "outputId": "5f510ecf-696c-485b-a901-2094c024c2e5"
      },
      "source": [
        "jsonResponse2 = requests.get('http://api.open-notify.org/astros.json')\n",
        "jsonResponse2.json()"
      ],
      "execution_count": null,
      "outputs": [
        {
          "output_type": "execute_result",
          "data": {
            "text/plain": [
              "{'message': 'success',\n",
              " 'number': 7,\n",
              " 'people': [{'craft': 'ISS', 'name': 'Mark Vande Hei'},\n",
              "  {'craft': 'ISS', 'name': 'Oleg Novitskiy'},\n",
              "  {'craft': 'ISS', 'name': 'Pyotr Dubrov'},\n",
              "  {'craft': 'ISS', 'name': 'Thomas Pesquet'},\n",
              "  {'craft': 'ISS', 'name': 'Megan McArthur'},\n",
              "  {'craft': 'ISS', 'name': 'Shane Kimbrough'},\n",
              "  {'craft': 'ISS', 'name': 'Akihiko Hoshide'}]}"
            ]
          },
          "metadata": {},
          "execution_count": 19
        }
      ]
    },
    {
      "cell_type": "code",
      "metadata": {
        "id": "eB14rEG04nRs"
      },
      "source": [
        "### THIS IS WHAT I WROTE IN SPYDER - API ENDPOINT = ASTROS \n",
        "\n",
        "import requests \n",
        "import pandas as pd \n",
        "\n",
        "\n",
        "jsonResponse2 = requests.get('http://api.open-notify.org/astros.json')\n",
        "jsonResponse2.json()\n",
        "\n",
        "jsonResponse = jsonResponse2.json()\n",
        "\n",
        "jsonResponsePeople = jsonResponse['people']\n",
        "jsonResponsePeopleDf = pd.DataFrame(jsonResponsePeople)\n",
        "\n",
        "\n",
        "\n",
        "jsonSimple = pd.DataFrame(jsonResponse['people'])"
      ],
      "execution_count": null,
      "outputs": []
    },
    {
      "cell_type": "code",
      "metadata": {
        "id": "qKy5EjVE5120"
      },
      "source": [
        "### THIS IS WHAT I WROTE IN SPYDER - API ENDPOINT = ISS-NOW \n",
        "\n",
        "\n",
        "issnowResponse = requests.get('http://api.open-notify.org/iss-now.json')\n",
        "issnowResponseJson = issnowResponse.json()\n",
        "issnowDataFrame = pd.DataFrame(issnowResponseJson['iss_position'], index=[0])"
      ],
      "execution_count": null,
      "outputs": []
    },
    {
      "cell_type": "code",
      "metadata": {
        "id": "iQYgxhBnKNPO"
      },
      "source": [
        "#### Particle Health Example that I ran in Spyder \n",
        "\n",
        "\n",
        "\n",
        "import requests \n",
        "\n",
        "\n",
        "\n",
        "######### Step 1 - Generate JWT \n",
        "\n",
        "particleid = \"sdfsdfsdfsdf\"\n",
        "particlesecret = \"8ssdfsdfdsfds4\"\n",
        "\n",
        "\n",
        "endpointauth = 'https://sandbox.particlehealth.com/auth'\n",
        "particleheaders = {'client-id': particleid, 'client-secret': particlesecret}\n",
        "\n",
        "particleresponse = requests.get(endpointauth, headers=particleheaders)\n",
        "\n",
        "\n",
        "particleresponse.status_code\n",
        "jwtresponse = particleresponse.text\n",
        "\n",
        "print(particleresponse)\n",
        "\n",
        "\n",
        "############# Step 2 - Make a basic GET request to pull down data \n",
        "\n",
        "endpointmetadata = 'https://sandbox.particlehealth.com/R4/metadata'\n",
        "\n",
        "headerswithjwt = {\"Content-Type\": \"application/json\", \n",
        "           'Authorization': jwtresponse}\n",
        "\n",
        "responsemeta = requests.get(endpointmetadata, headers=headerswithjwt)\n",
        "responsemeta.status_code\n",
        "\n",
        "responsemetaText = responsemeta.text\n",
        "responsemetaJson = responsemeta.json()\n",
        "\n",
        "\n",
        "test = pd.DataFrame(responsemetaJson['rest'][0]['resource'])\n",
        "\n",
        "\n",
        "\n",
        "########### Step 3 - Make a basic GET request to pull down patient data \n",
        "\n",
        "url = 'https://sandbox.particlehealth.com/R4/Encounter/?person={person_id}'\n",
        "\n",
        "newResponse = requests.get(url, headers=headerswithjwt)\n",
        "newResponse.status_code\n",
        "newResponseJson = newResponse.json()"
      ],
      "execution_count": null,
      "outputs": []
    }
  ]
}